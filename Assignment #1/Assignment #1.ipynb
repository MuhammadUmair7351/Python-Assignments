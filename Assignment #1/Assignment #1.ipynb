{
 "cells": [
  {
   "cell_type": "code",
   "execution_count": 1,
   "id": "0771922d",
   "metadata": {},
   "outputs": [
    {
     "name": "stdout",
     "output_type": "stream",
     "text": [
      "Twinkle, twinkle, little star,\n",
      "\t How I wonder what you are!\n",
      "\t\t Up above the world so high,\n",
      "\t\t Like a diamond in the sky.\n",
      "Twinkle, twinkle, little star,\n",
      "\t\t How I wonder what you are\n"
     ]
    }
   ],
   "source": [
    "# 1. Write a Python program to print the following string in a specific format (see the output)?\n",
    "\n",
    "print(\"Twinkle, twinkle, little star,\\n\\t How I wonder what you are!\\n\\t\\t Up above the world so high,\\n\\t\\t Like a diamond in the sky.\\nTwinkle, twinkle, little star,\\n\\t\\t How I wonder what you are\");"
   ]
  },
  {
   "cell_type": "code",
   "execution_count": 2,
   "id": "d2fe9d37",
   "metadata": {},
   "outputs": [
    {
     "name": "stdout",
     "output_type": "stream",
     "text": [
      "Python version\n",
      "3.8.8 (default, Apr 13 2021, 15:08:03) [MSC v.1916 64 bit (AMD64)]\n"
     ]
    }
   ],
   "source": [
    "# 2. Write a Python program to get the Python version you are using?\n",
    "\n",
    "import sys;\n",
    "print(\"Python version\");\n",
    "print (sys.version);"
   ]
  },
  {
   "cell_type": "code",
   "execution_count": 3,
   "id": "59aa7d72",
   "metadata": {},
   "outputs": [
    {
     "name": "stdout",
     "output_type": "stream",
     "text": [
      "Current date and time : \n",
      "2022-01-01 21:24:42\n"
     ]
    }
   ],
   "source": [
    "# 3. Write a Python program to display the current date and time?\n",
    "\n",
    "import datetime;\n",
    "now = datetime.datetime.now();\n",
    "print (\"Current date and time : \");\n",
    "print (now.strftime(\"%Y-%m-%d %H:%M:%S\"));"
   ]
  },
  {
   "cell_type": "code",
   "execution_count": 4,
   "id": "6576ec1d",
   "metadata": {},
   "outputs": [
    {
     "name": "stdout",
     "output_type": "stream",
     "text": [
      "Enter the radius of the circle: 20\n",
      "Radius = 20.0\n",
      "Area =  1256.636\n"
     ]
    }
   ],
   "source": [
    "# 4. Write a Python program which accepts the radius of a circle from the user and compute the area?\n",
    "\n",
    "r = float(input(\"Enter the radius of the circle: \"));\n",
    "area = 3.14159 * r * r;\n",
    "print(\"Radius =\", r);\n",
    "print(\"Area = \", area)"
   ]
  },
  {
   "cell_type": "code",
   "execution_count": 6,
   "id": "e894cccf",
   "metadata": {},
   "outputs": [
    {
     "name": "stdout",
     "output_type": "stream",
     "text": [
      "Enter your First Name = Muhammad\n",
      "Enter your Last Name = Umair\n",
      "Umair Muhammad\n"
     ]
    }
   ],
   "source": [
    "\"\"\"5. Write a Python program which accepts the user's first and last name and print them in\n",
    "      reverse order with a space between them\"\"\"\n",
    "\n",
    "first_name = input(\"Enter your First Name = \");\n",
    "last_name = input(\"Enter your Last Name = \");\n",
    "print(last_name + \" \" + first_name);"
   ]
  },
  {
   "cell_type": "code",
   "execution_count": 7,
   "id": "7576f35e",
   "metadata": {},
   "outputs": [
    {
     "name": "stdout",
     "output_type": "stream",
     "text": [
      "enter first number = 50\n",
      "enter second number = 10\n",
      "sum = 60\n"
     ]
    }
   ],
   "source": [
    "# 6. Write a python program which takes two inputs from user and print them addition?\n",
    "\n",
    "num1 = int(input(\"enter first number = \"));\n",
    "num2 = int(input(\"enter second number = \"));\n",
    "sum = num1 + num2;\n",
    "print(\"sum =\", sum);"
   ]
  },
  {
   "cell_type": "code",
   "execution_count": null,
   "id": "529dc9ad",
   "metadata": {},
   "outputs": [],
   "source": []
  }
 ],
 "metadata": {
  "kernelspec": {
   "display_name": "Python 3",
   "language": "python",
   "name": "python3"
  },
  "language_info": {
   "codemirror_mode": {
    "name": "ipython",
    "version": 3
   },
   "file_extension": ".py",
   "mimetype": "text/x-python",
   "name": "python",
   "nbconvert_exporter": "python",
   "pygments_lexer": "ipython3",
   "version": "3.8.8"
  }
 },
 "nbformat": 4,
 "nbformat_minor": 5
}
